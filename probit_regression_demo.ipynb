{
 "metadata": {
  "name": "",
  "signature": "sha256:c83202bcc983ef260668b8b956627c9a49d9e7839bfa2db2a5ba2e7308344661"
 },
 "nbformat": 3,
 "nbformat_minor": 0,
 "worksheets": [
  {
   "cells": [
    {
     "cell_type": "code",
     "collapsed": false,
     "input": [
      "import numpy as np, pymc as pm, pandas as pd \n",
      "from scipy import stats"
     ],
     "language": "python",
     "metadata": {},
     "outputs": [],
     "prompt_number": 7
    },
    {
     "cell_type": "markdown",
     "metadata": {},
     "source": [
      "# Generate some data using known parameters:"
     ]
    },
    {
     "cell_type": "code",
     "collapsed": false,
     "input": [
      "true_alpha = -0.1\n",
      "true_beta = 0.8\n",
      "\n",
      "n_obs = 100\n",
      "x = np.repeat(np.linspace(start=-3, stop=3, num=9), n_obs)"
     ],
     "language": "python",
     "metadata": {},
     "outputs": [],
     "prompt_number": 8
    },
    {
     "cell_type": "markdown",
     "metadata": {},
     "source": [
      "## Construct linear predictor and transform to rate parameter"
     ]
    },
    {
     "cell_type": "code",
     "collapsed": false,
     "input": [
      "Normal = stats.norm\n",
      "p = Normal.cdf(true_alpha + true_beta*x)"
     ],
     "language": "python",
     "metadata": {},
     "outputs": [],
     "prompt_number": 9
    },
    {
     "cell_type": "markdown",
     "metadata": {},
     "source": [
      "## Generate response variable:"
     ]
    },
    {
     "cell_type": "code",
     "collapsed": false,
     "input": [
      "Bernoulli = stats.bernoulli\n",
      "y = Bernoulli.rvs(p)"
     ],
     "language": "python",
     "metadata": {},
     "outputs": [],
     "prompt_number": 10
    },
    {
     "cell_type": "markdown",
     "metadata": {},
     "source": [
      "##Probit regression model:"
     ]
    },
    {
     "cell_type": "code",
     "collapsed": false,
     "input": [
      "with pm.Model() as model:\n",
      "    \n",
      "    # priors\n",
      "    alpha = pm.Normal('alpha', mu=0, tau=0.001)\n",
      "    beta = pm.Normal('beta', mu=0, tau=0.001)\n",
      "    \n",
      "    # linear predictor\n",
      "    theta_p = (alpha + beta * x)\n",
      "        \n",
      "    # logit transform: this seems to work ok\n",
      "#     def invlogit(x):\n",
      "#         import theano.tensor as t\n",
      "#         return t.exp(x) / (1 + t.exp(x))\n",
      "#     theta = invlogit(theta_p)\n",
      "    \n",
      "    \n",
      "    # Probit transform: this doesn't work\n",
      "    def phi(x):\n",
      "        import theano.tensor as t\n",
      "        return 0.5 * (1 + t.erf(x / t.sqr(2)))\n",
      "    theta = phi(theta_p)\n",
      "    \n",
      "    \n",
      "    # likelihood\n",
      "    y = pm.Bernoulli('y', p=theta, observed=y)"
     ],
     "language": "python",
     "metadata": {},
     "outputs": [],
     "prompt_number": 5
    },
    {
     "cell_type": "code",
     "collapsed": false,
     "input": [
      "with model:\n",
      "    # Inference\n",
      "    start = pm.find_MAP() # Find starting value by optimization\n",
      "    \n",
      "    print(\"MAP found:\")\n",
      "    print(\"alpha:\", start['alpha'])\n",
      "    print(\"beta:\", start['beta'])\n",
      "\n",
      "    print(\"Compare with true values:\")\n",
      "    print(\"true_alpha\", true_alpha)\n",
      "    print(\"true_beta\", true_beta)"
     ],
     "language": "python",
     "metadata": {},
     "outputs": [
      {
       "output_type": "stream",
       "stream": "stdout",
       "text": [
        "MAP found:\n",
        "('alpha:', array(-0.2625527488896039))\n",
        "('beta:', array(2.316800630909899))\n",
        "Compare with true values:\n",
        "('true_alpha', -0.1)\n",
        "('true_beta', 0.8)\n"
       ]
      }
     ],
     "prompt_number": 6
    },
    {
     "cell_type": "code",
     "collapsed": false,
     "input": [
      "with model:\n",
      "        step = pm.NUTS()\n",
      "        trace = pm.sample(2000,\n",
      "                           step, \n",
      "                           start=start, \n",
      "                           progressbar=True) # draw posterior samples"
     ],
     "language": "python",
     "metadata": {},
     "outputs": [
      {
       "output_type": "stream",
       "stream": "stdout",
       "text": [
        "\r",
        " [------           17%                  ] 344 of 2000 complete in 0.5 sec"
       ]
      },
      {
       "output_type": "stream",
       "stream": "stdout",
       "text": [
        "\r",
        " [--------------   37%                  ] 747 of 2000 complete in 1.0 sec"
       ]
      },
      {
       "output_type": "stream",
       "stream": "stdout",
       "text": [
        "\r",
        " [-----------------55%                  ] 1101 of 2000 complete in 1.5 sec"
       ]
      },
      {
       "output_type": "stream",
       "stream": "stdout",
       "text": [
        "\r",
        " [-----------------76%---------         ] 1531 of 2000 complete in 2.0 sec"
       ]
      },
      {
       "output_type": "stream",
       "stream": "stdout",
       "text": [
        "\r",
        " [-----------------99%----------------- ] 1989 of 2000 complete in 2.5 sec"
       ]
      },
      {
       "output_type": "stream",
       "stream": "stdout",
       "text": [
        "\r",
        " [-----------------100%-----------------] 2000 of 2000 complete in 2.5 sec"
       ]
      }
     ],
     "prompt_number": 8
    },
    {
     "cell_type": "code",
     "collapsed": false,
     "input": [
      "pm.summary(trace)"
     ],
     "language": "python",
     "metadata": {},
     "outputs": [
      {
       "output_type": "stream",
       "stream": "stdout",
       "text": [
        "\n",
        "alpha:\n",
        " \n",
        "  Mean             SD               MC Error         95% HPD interval\n",
        "  -------------------------------------------------------------------\n",
        "  -0.270           0.163            0.004            [-0.605, 0.044]\n",
        "\n",
        "  Posterior quantiles:\n",
        "  2.5            25             50             75             97.5\n",
        "  |--------------|==============|==============|--------------|\n",
        "  -0.591         -0.374         -0.271         -0.163         0.061\n",
        "\n",
        "\n",
        "beta:\n",
        " \n",
        "  Mean             SD               MC Error         95% HPD interval\n",
        "  -------------------------------------------------------------------\n",
        "  2.333            0.131            0.004            [2.076, 2.570]\n",
        "\n",
        "  Posterior quantiles:\n",
        "  2.5            25             50             75             97.5\n",
        "  |--------------|==============|==============|--------------|\n",
        "  2.095          2.243          2.327          2.418          2.593\n",
        "\n"
       ]
      }
     ],
     "prompt_number": 9
    },
    {
     "cell_type": "markdown",
     "metadata": {},
     "source": [
      "## Now let's do the same in JAGS and R:"
     ]
    },
    {
     "cell_type": "code",
     "collapsed": false,
     "input": [
      "%load_ext rmagic\n",
      "from __future__ import division"
     ],
     "language": "python",
     "metadata": {},
     "outputs": [
      {
       "output_type": "stream",
       "stream": "stdout",
       "text": [
        "The rmagic extension is already loaded. To reload it, use:\n",
        "  %reload_ext rmagic\n"
       ]
      }
     ],
     "prompt_number": 4
    },
    {
     "cell_type": "code",
     "collapsed": false,
     "input": [
      "## push data to R\n",
      "%Rpush x y"
     ],
     "language": "python",
     "metadata": {},
     "outputs": [],
     "prompt_number": 11
    },
    {
     "cell_type": "code",
     "collapsed": false,
     "input": [
      "%%R\n",
      "library(R2jags)\n",
      "model <- \"\n",
      "model {\n",
      "    # likelihood\n",
      "    for (i in 1:length(y)) {\n",
      "        probit(theta[i]) <- a + b * x[i]\n",
      "        y[i] ~ dbern(theta[i])\n",
      "    }\n",
      "    # priors\n",
      "    a ~ dnorm(0, 1e-4)\n",
      "    b ~ dnorm(0, 1e-4)\n",
      "}\"\n",
      "\n",
      "data <- list(x=x, y=y)\n",
      "\n",
      "parameters <- c(\"a\", \"b\")\n",
      "\n",
      "samples = jags(data = data,\n",
      "               # inits = inits,\n",
      "               parameters.to.save = parameters,\n",
      "               model.file = textConnection(model),\n",
      "               n.chains = 1,\n",
      "               n.iter = 1000,\n",
      "               n.burnin = 200,\n",
      "               n.thin = 1,\n",
      "               DIC = T)"
     ],
     "language": "python",
     "metadata": {},
     "outputs": [
      {
       "metadata": {},
       "output_type": "display_data",
       "text": [
        "Loading required package: rjags\n",
        "Loading required package: coda\n",
        "Loading required package: lattice\n",
        "Linked to JAGS 3.4.0\n",
        "Loaded modules: basemod,bugs\n",
        "\n",
        "Attaching package: \u2018R2jags\u2019\n",
        "\n",
        "The following object is masked from \u2018package:coda\u2019:\n",
        "\n",
        "    traceplot\n",
        "\n",
        "module glm loaded\n",
        "Compiling model graph\n",
        "   Resolving undeclared variables\n",
        "   Allocating nodes\n",
        "   Graph Size: 1831\n",
        "\n",
        "Initializing model\n",
        "\n",
        "\r",
        "  |                                                        \r",
        "  |                                                  |   0%\r",
        "  |                                                        \r",
        "  |*                                                 |   2%\r",
        "  |                                                        \r",
        "  |**                                                |   5%\r",
        "  |                                                        \r",
        "  |****                                              |   8%\r",
        "  |                                                        \r",
        "  |*****                                             |  10%\r",
        "  |                                                        \r",
        "  |******                                            |  12%\r",
        "  |                                                        \r",
        "  |********                                          |  15%\r",
        "  |                                                        \r",
        "  |*********                                         |  18%\r",
        "  |                                                        \r",
        "  |**********                                        |  20%\r",
        "  |                                                        \r",
        "  |***********                                       |  22%\r",
        "  |                                                        \r",
        "  |************                                      |  25%\r",
        "  |                                                        \r",
        "  |**************                                    |  28%\r",
        "  |                                                        \r",
        "  |***************                                   |  30%\r",
        "  |                                                        \r",
        "  |****************                                  |  32%\r",
        "  |                                                        \r",
        "  |******************                                |  35%\r",
        "  |                                                        \r",
        "  |*******************                               |  38%\r",
        "  |                                                        \r",
        "  |********************                              |  40%\r",
        "  |                                                        \r",
        "  |*********************                             |  42%\r",
        "  |                                                        \r",
        "  |**********************                            |  45%\r",
        "  |                                                        \r",
        "  |************************                          |  48%\r",
        "  |                                                        \r",
        "  |*************************                         |  50%\r",
        "  |                                                        \r",
        "  |**************************                        |  52%\r",
        "  |                                                        \r",
        "  |****************************                      |  55%\r",
        "  |                                                        \r",
        "  |*****************************                     |  58%\r",
        "  |                                                        \r",
        "  |******************************                    |  60%\r",
        "  |                                                        \r",
        "  |*******************************                   |  62%\r",
        "  |                                                        \r",
        "  |********************************                  |  65%\r",
        "  |                                                        \r",
        "  |**********************************                |  68%\r",
        "  |                                                        \r",
        "  |***********************************               |  70%\r",
        "  |                                                        \r",
        "  |************************************              |  72%\r",
        "  |                                                        \r",
        "  |**************************************            |  75%\r",
        "  |                                                        \r",
        "  |***************************************           |  78%\r",
        "  |                                                        \r",
        "  |****************************************          |  80%\r",
        "  |                                                        \r",
        "  |*****************************************         |  82%\r",
        "  |                                                        \r",
        "  |******************************************        |  85%\r",
        "  |                                                        \r",
        "  |********************************************      |  88%\r",
        "  |                                                        \r",
        "  |*********************************************     |  90%\r",
        "  |                                                        \r",
        "  |**********************************************    |  92%\r",
        "  |                                                        \r",
        "  |************************************************  |  95%\r",
        "  |                                                        \r",
        "  |************************************************* |  98%\r",
        "  |                                                        \r",
        "  |**************************************************| 100%\n"
       ]
      }
     ],
     "prompt_number": 12
    },
    {
     "cell_type": "code",
     "collapsed": false,
     "input": [
      "%%R\n",
      "samples"
     ],
     "language": "python",
     "metadata": {},
     "outputs": []
    }
   ],
   "metadata": {}
  }
 ]
}