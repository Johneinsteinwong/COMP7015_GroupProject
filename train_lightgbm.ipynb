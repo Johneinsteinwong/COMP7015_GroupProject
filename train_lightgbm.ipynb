{
 "cells": [
  {
   "cell_type": "code",
   "execution_count": null,
   "metadata": {},
   "outputs": [],
   "source": [
    "import pandas as pd\n",
    "import numpy as np\n",
    "import os\n",
    "from matplotlib import pyplot as plt\n",
    "import seaborn as sns\n",
    "from scipy.stats import norm, logistic\n",
    "from scipy.optimize import minimize\n",
    "from sklearn.model_selection import train_test_split\n",
    "from sklearn.metrics import accuracy_score, log_loss, f1_score\n",
    "from sklearn.preprocessing import *\n",
    "from util import *\n",
    "\n",
    "import lightgbm as lgb\n",
    "from Models import lgbModel\n",
    "print(lgb.__version__)\n",
    "\n"
   ]
  },
  {
   "cell_type": "code",
   "execution_count": null,
   "metadata": {},
   "outputs": [],
   "source": [
    "SEED = 1\n",
    "\n",
    "data_folder = 'data'\n",
    "df = pd.read_csv(os.path.join(data_folder,'mimiciv_traindata.csv'))\n",
    "df.head()"
   ]
  },
  {
   "cell_type": "code",
   "execution_count": null,
   "metadata": {},
   "outputs": [],
   "source": [
    "x = compute_features(df.drop('mortality',axis=1)) #df.drop('mortality',axis=1)\n",
    "y = df.mortality.values\n",
    "\n",
    "x_train, x_test, y_train, y_test = train_test_split(x, y, test_size=0.3, random_state=SEED)\n",
    "\n",
    "#scaler = RobustScaler(unit_variance=True)\n",
    "scaler = QuantileTransformer(output_distribution='normal', ignore_implicit_zeros=False)\n",
    "#scaler = PowerTransformer(method='yeo-johnson', standardize=True)\n",
    "\n",
    "x_train = scaler.fit_transform(x_train)\n",
    "x_test = scaler.transform(x_test)"
   ]
  },
  {
   "cell_type": "code",
   "execution_count": null,
   "metadata": {},
   "outputs": [],
   "source": [
    "# Define the F1 Score metric\n",
    "def f1_metric(y_true, y_pred):\n",
    "  y_pred = (y_pred>=0.5).astype(int)\n",
    "  f1 = f1_score(y_true, y_pred)\n",
    "  return \"f1\", f1, True\n",
    "\n",
    "params = {\n",
    "    \"objective\": \"binary\",\n",
    "    \"verbosity\": 1,\n",
    "    \"boosting_type\": \"dart\",#\"gbdt\", #\n",
    "    \"is_unbalance\": True,\n",
    "    \"num_boost_round\": 1000,\n",
    "    \"early_stopping_round\": 100,\n",
    "\n",
    "    \"max_depth\" : 100,\n",
    "    \"num_leaves\" : 10,\n",
    "    \"learning_rate\" : 0.03,\n",
    "    \"min_data_in_leaf\": 10,\n",
    "    \"bagging_fraction\": 0.9,\n",
    "    \"feature_fraction\": 0.9,\n",
    "    \"lambda_l1\": 0,\n",
    "    \"lambda_l2\": 2.,\n",
    "    \"min_split_gain\": 0.1,\n",
    "    \"max_bin\": 255,\n",
    "    # dart param\n",
    "    \"drop_rate\": 0.1,\n",
    "    \"max_drop\": 50\n",
    "\n",
    "}\n",
    "\n"
   ]
  },
  {
   "cell_type": "code",
   "execution_count": null,
   "metadata": {},
   "outputs": [],
   "source": [
    "eval_result = {}\n",
    "record_evaluation_callback = lgb.callback.record_evaluation(eval_result =eval_result )\n",
    "\n",
    "model = lgbModel(eval_metric=f1_metric, **params)\n",
    "model.fit(\n",
    "    x_train, y_train,\n",
    "    eval_set=[(x_test, y_test)],\n",
    "    callbacks=[record_evaluation_callback],\n",
    ")"
   ]
  },
  {
   "cell_type": "code",
   "execution_count": null,
   "metadata": {},
   "outputs": [],
   "source": [
    "lgb.plot_metric(eval_result,metric='f1')"
   ]
  },
  {
   "cell_type": "code",
   "execution_count": null,
   "metadata": {},
   "outputs": [],
   "source": [
    "from util import *\n",
    "p = model.predict_proba(x_test)\n",
    "y_label = model.predict(x_test)\n",
    "evaluate_model(y_test, y_label, p)"
   ]
  },
  {
   "cell_type": "code",
   "execution_count": null,
   "metadata": {},
   "outputs": [],
   "source": []
  }
 ],
 "metadata": {
  "kernelspec": {
   "display_name": "ml",
   "language": "python",
   "name": "python3"
  },
  "language_info": {
   "codemirror_mode": {
    "name": "ipython",
    "version": 3
   },
   "file_extension": ".py",
   "mimetype": "text/x-python",
   "name": "python",
   "nbconvert_exporter": "python",
   "pygments_lexer": "ipython3",
   "version": "3.10.15"
  }
 },
 "nbformat": 4,
 "nbformat_minor": 2
}
