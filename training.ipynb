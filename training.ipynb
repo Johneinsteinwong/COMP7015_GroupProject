{
 "cells": [
  {
   "cell_type": "code",
   "execution_count": 2,
   "metadata": {},
   "outputs": [],
   "source": [
    "import pandas as pd\n",
    "import os\n",
    "from matplotlib import pyplot as plt\n",
    "import seaborn as sns"
   ]
  },
  {
   "cell_type": "code",
   "execution_count": 3,
   "metadata": {},
   "outputs": [
    {
     "data": {
      "text/html": [
       "<div>\n",
       "<style scoped>\n",
       "    .dataframe tbody tr th:only-of-type {\n",
       "        vertical-align: middle;\n",
       "    }\n",
       "\n",
       "    .dataframe tbody tr th {\n",
       "        vertical-align: top;\n",
       "    }\n",
       "\n",
       "    .dataframe thead th {\n",
       "        text-align: right;\n",
       "    }\n",
       "</style>\n",
       "<table border=\"1\" class=\"dataframe\">\n",
       "  <thead>\n",
       "    <tr style=\"text-align: right;\">\n",
       "      <th></th>\n",
       "      <th>Fraction inspired oxygen_mean</th>\n",
       "      <th>Fraction inspired oxygen_min</th>\n",
       "      <th>Fraction inspired oxygen_max</th>\n",
       "      <th>Glucose_mean</th>\n",
       "      <th>Glucose_min</th>\n",
       "      <th>Glucose_max</th>\n",
       "      <th>Heart Rate_mean</th>\n",
       "      <th>Heart Rate_min</th>\n",
       "      <th>Heart Rate_max</th>\n",
       "      <th>Mean blood pressure_mean</th>\n",
       "      <th>...</th>\n",
       "      <th>Temperature_mean</th>\n",
       "      <th>Temperature_min</th>\n",
       "      <th>Temperature_max</th>\n",
       "      <th>Weight_mean</th>\n",
       "      <th>Weight_min</th>\n",
       "      <th>Weight_max</th>\n",
       "      <th>pH_mean</th>\n",
       "      <th>pH_min</th>\n",
       "      <th>pH_max</th>\n",
       "      <th>mortality</th>\n",
       "    </tr>\n",
       "  </thead>\n",
       "  <tbody>\n",
       "    <tr>\n",
       "      <th>0</th>\n",
       "      <td>0.484615</td>\n",
       "      <td>0.4</td>\n",
       "      <td>0.6</td>\n",
       "      <td>155.181818</td>\n",
       "      <td>52.0</td>\n",
       "      <td>280.0</td>\n",
       "      <td>52.367347</td>\n",
       "      <td>35.0</td>\n",
       "      <td>93.0</td>\n",
       "      <td>87.096154</td>\n",
       "      <td>...</td>\n",
       "      <td>36.356349</td>\n",
       "      <td>35.200000</td>\n",
       "      <td>37.100000</td>\n",
       "      <td>81.419764</td>\n",
       "      <td>81.419764</td>\n",
       "      <td>81.419764</td>\n",
       "      <td>7.328750</td>\n",
       "      <td>7.19</td>\n",
       "      <td>7.40</td>\n",
       "      <td>1.0</td>\n",
       "    </tr>\n",
       "    <tr>\n",
       "      <th>1</th>\n",
       "      <td>0.600000</td>\n",
       "      <td>0.5</td>\n",
       "      <td>1.0</td>\n",
       "      <td>127.954545</td>\n",
       "      <td>85.0</td>\n",
       "      <td>177.0</td>\n",
       "      <td>72.660377</td>\n",
       "      <td>58.0</td>\n",
       "      <td>105.0</td>\n",
       "      <td>72.315789</td>\n",
       "      <td>...</td>\n",
       "      <td>36.786325</td>\n",
       "      <td>36.388889</td>\n",
       "      <td>37.055556</td>\n",
       "      <td>93.103510</td>\n",
       "      <td>91.807021</td>\n",
       "      <td>95.000000</td>\n",
       "      <td>7.377143</td>\n",
       "      <td>7.34</td>\n",
       "      <td>7.42</td>\n",
       "      <td>0.0</td>\n",
       "    </tr>\n",
       "    <tr>\n",
       "      <th>2</th>\n",
       "      <td>0.481250</td>\n",
       "      <td>0.4</td>\n",
       "      <td>0.8</td>\n",
       "      <td>145.625000</td>\n",
       "      <td>116.0</td>\n",
       "      <td>180.0</td>\n",
       "      <td>107.260000</td>\n",
       "      <td>96.0</td>\n",
       "      <td>118.0</td>\n",
       "      <td>86.462963</td>\n",
       "      <td>...</td>\n",
       "      <td>37.316239</td>\n",
       "      <td>36.611111</td>\n",
       "      <td>37.944444</td>\n",
       "      <td>67.500000</td>\n",
       "      <td>67.500000</td>\n",
       "      <td>67.500000</td>\n",
       "      <td>7.372000</td>\n",
       "      <td>7.29</td>\n",
       "      <td>7.45</td>\n",
       "      <td>0.0</td>\n",
       "    </tr>\n",
       "    <tr>\n",
       "      <th>3</th>\n",
       "      <td>0.400000</td>\n",
       "      <td>0.4</td>\n",
       "      <td>0.4</td>\n",
       "      <td>100.142857</td>\n",
       "      <td>77.0</td>\n",
       "      <td>154.0</td>\n",
       "      <td>57.250000</td>\n",
       "      <td>47.0</td>\n",
       "      <td>65.0</td>\n",
       "      <td>69.762712</td>\n",
       "      <td>...</td>\n",
       "      <td>NaN</td>\n",
       "      <td>NaN</td>\n",
       "      <td>NaN</td>\n",
       "      <td>80.403091</td>\n",
       "      <td>76.838485</td>\n",
       "      <td>86.000000</td>\n",
       "      <td>7.161250</td>\n",
       "      <td>6.00</td>\n",
       "      <td>7.36</td>\n",
       "      <td>1.0</td>\n",
       "    </tr>\n",
       "    <tr>\n",
       "      <th>4</th>\n",
       "      <td>0.566667</td>\n",
       "      <td>0.4</td>\n",
       "      <td>1.0</td>\n",
       "      <td>138.000000</td>\n",
       "      <td>116.0</td>\n",
       "      <td>155.0</td>\n",
       "      <td>84.015625</td>\n",
       "      <td>64.0</td>\n",
       "      <td>114.0</td>\n",
       "      <td>70.662162</td>\n",
       "      <td>...</td>\n",
       "      <td>36.148990</td>\n",
       "      <td>34.722222</td>\n",
       "      <td>37.666667</td>\n",
       "      <td>NaN</td>\n",
       "      <td>NaN</td>\n",
       "      <td>NaN</td>\n",
       "      <td>7.374444</td>\n",
       "      <td>7.27</td>\n",
       "      <td>7.42</td>\n",
       "      <td>1.0</td>\n",
       "    </tr>\n",
       "  </tbody>\n",
       "</table>\n",
       "<p>5 rows × 34 columns</p>\n",
       "</div>"
      ],
      "text/plain": [
       "   Fraction inspired oxygen_mean  Fraction inspired oxygen_min  \\\n",
       "0                       0.484615                           0.4   \n",
       "1                       0.600000                           0.5   \n",
       "2                       0.481250                           0.4   \n",
       "3                       0.400000                           0.4   \n",
       "4                       0.566667                           0.4   \n",
       "\n",
       "   Fraction inspired oxygen_max  Glucose_mean  Glucose_min  Glucose_max  \\\n",
       "0                           0.6    155.181818         52.0        280.0   \n",
       "1                           1.0    127.954545         85.0        177.0   \n",
       "2                           0.8    145.625000        116.0        180.0   \n",
       "3                           0.4    100.142857         77.0        154.0   \n",
       "4                           1.0    138.000000        116.0        155.0   \n",
       "\n",
       "   Heart Rate_mean  Heart Rate_min  Heart Rate_max  Mean blood pressure_mean  \\\n",
       "0        52.367347            35.0            93.0                 87.096154   \n",
       "1        72.660377            58.0           105.0                 72.315789   \n",
       "2       107.260000            96.0           118.0                 86.462963   \n",
       "3        57.250000            47.0            65.0                 69.762712   \n",
       "4        84.015625            64.0           114.0                 70.662162   \n",
       "\n",
       "   ...  Temperature_mean  Temperature_min  Temperature_max  Weight_mean  \\\n",
       "0  ...         36.356349        35.200000        37.100000    81.419764   \n",
       "1  ...         36.786325        36.388889        37.055556    93.103510   \n",
       "2  ...         37.316239        36.611111        37.944444    67.500000   \n",
       "3  ...               NaN              NaN              NaN    80.403091   \n",
       "4  ...         36.148990        34.722222        37.666667          NaN   \n",
       "\n",
       "   Weight_min  Weight_max   pH_mean  pH_min  pH_max  mortality  \n",
       "0   81.419764   81.419764  7.328750    7.19    7.40        1.0  \n",
       "1   91.807021   95.000000  7.377143    7.34    7.42        0.0  \n",
       "2   67.500000   67.500000  7.372000    7.29    7.45        0.0  \n",
       "3   76.838485   86.000000  7.161250    6.00    7.36        1.0  \n",
       "4         NaN         NaN  7.374444    7.27    7.42        1.0  \n",
       "\n",
       "[5 rows x 34 columns]"
      ]
     },
     "execution_count": 3,
     "metadata": {},
     "output_type": "execute_result"
    }
   ],
   "source": [
    "data_folder = 'data'\n",
    "df = pd.read_csv(os.path.join(data_folder,'mimiciv_traindata.csv'))\n",
    "df.head()"
   ]
  },
  {
   "cell_type": "code",
   "execution_count": 13,
   "metadata": {},
   "outputs": [
    {
     "name": "stdout",
     "output_type": "stream",
     "text": [
      "mortality\n",
      "0.0    0.749424\n",
      "1.0    0.250576\n",
      "Name: proportion, dtype: float64\n"
     ]
    },
    {
     "data": {
      "text/plain": [
       "<Axes: xlabel='mortality'>"
      ]
     },
     "execution_count": 13,
     "metadata": {},
     "output_type": "execute_result"
    },
    {
     "data": {
      "image/png": "[encoded data removed]",
      "text/plain": [
       "<Figure size 640x480 with 1 Axes>"
      ]
     },
     "metadata": {},
     "output_type": "display_data"
    }
   ],
   "source": [
    "print(df.mortality.value_counts(normalize=True))\n",
    "df.mortality.value_counts(normalize=True).plot(kind='bar')\n",
    "#sns.countplot(x='mortality', data=df)"
   ]
  },
  {
   "cell_type": "code",
   "execution_count": 9,
   "metadata": {},
   "outputs": [
    {
     "data": {
      "text/plain": [
       "<Axes: xlabel='mortality', ylabel='count'>"
      ]
     },
     "execution_count": 9,
     "metadata": {},
     "output_type": "execute_result"
    },
    {
     "data": {
      "image/png": "[encoded data removed]",
      "text/plain": [
       "<Figure size 640x480 with 1 Axes>"
      ]
     },
     "metadata": {},
     "output_type": "display_data"
    }
   ],
   "source": []
  },
  {
   "cell_type": "code",
   "execution_count": null,
   "metadata": {},
   "outputs": [],
   "source": []
  }
 ],
 "metadata": {
  "kernelspec": {
   "display_name": "base",
   "language": "python",
   "name": "python3"
  },
  "language_info": {
   "codemirror_mode": {
    "name": "ipython",
    "version": 3
   },
   "file_extension": ".py",
   "mimetype": "text/x-python",
   "name": "python",
   "nbconvert_exporter": "python",
   "pygments_lexer": "ipython3",
   "version": "3.10.14"
  }
 },
 "nbformat": 4,
 "nbformat_minor": 2
}
