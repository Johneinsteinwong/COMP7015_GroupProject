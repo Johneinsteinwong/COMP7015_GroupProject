{
 "cells": [
  {
   "cell_type": "code",
   "execution_count": 1,
   "metadata": {},
   "outputs": [],
   "source": [
    "import pandas as pd\n",
    "import numpy as np\n",
    "import os\n",
    "from matplotlib import pyplot as plt\n",
    "import seaborn as sns\n",
    "from Models import probitModel, logisticModel\n",
    "from util import *\n",
    "from sklearn.preprocessing import *\n",
    "from sklearn.impute import *\n",
    "\n",
    "import json\n",
    "import joblib"
   ]
  },
  {
   "cell_type": "code",
   "execution_count": 2,
   "metadata": {},
   "outputs": [
    {
     "data": {
      "text/html": [
       "<div>\n",
       "<style scoped>\n",
       "    .dataframe tbody tr th:only-of-type {\n",
       "        vertical-align: middle;\n",
       "    }\n",
       "\n",
       "    .dataframe tbody tr th {\n",
       "        vertical-align: top;\n",
       "    }\n",
       "\n",
       "    .dataframe thead th {\n",
       "        text-align: right;\n",
       "    }\n",
       "</style>\n",
       "<table border=\"1\" class=\"dataframe\">\n",
       "  <thead>\n",
       "    <tr style=\"text-align: right;\">\n",
       "      <th></th>\n",
       "      <th>Fraction inspired oxygen_mean</th>\n",
       "      <th>Fraction inspired oxygen_min</th>\n",
       "      <th>Fraction inspired oxygen_max</th>\n",
       "      <th>Glucose_mean</th>\n",
       "      <th>Glucose_min</th>\n",
       "      <th>Glucose_max</th>\n",
       "      <th>Heart Rate_mean</th>\n",
       "      <th>Heart Rate_min</th>\n",
       "      <th>Heart Rate_max</th>\n",
       "      <th>Mean blood pressure_mean</th>\n",
       "      <th>...</th>\n",
       "      <th>Temperature_mean</th>\n",
       "      <th>Temperature_min</th>\n",
       "      <th>Temperature_max</th>\n",
       "      <th>Weight_mean</th>\n",
       "      <th>Weight_min</th>\n",
       "      <th>Weight_max</th>\n",
       "      <th>pH_mean</th>\n",
       "      <th>pH_min</th>\n",
       "      <th>pH_max</th>\n",
       "      <th>mortality</th>\n",
       "    </tr>\n",
       "  </thead>\n",
       "  <tbody>\n",
       "    <tr>\n",
       "      <th>0</th>\n",
       "      <td>0.484615</td>\n",
       "      <td>0.4</td>\n",
       "      <td>0.6</td>\n",
       "      <td>155.181818</td>\n",
       "      <td>52.0</td>\n",
       "      <td>280.0</td>\n",
       "      <td>52.367347</td>\n",
       "      <td>35.0</td>\n",
       "      <td>93.0</td>\n",
       "      <td>87.096154</td>\n",
       "      <td>...</td>\n",
       "      <td>36.356349</td>\n",
       "      <td>35.200000</td>\n",
       "      <td>37.100000</td>\n",
       "      <td>81.419764</td>\n",
       "      <td>81.419764</td>\n",
       "      <td>81.419764</td>\n",
       "      <td>7.328750</td>\n",
       "      <td>7.19</td>\n",
       "      <td>7.40</td>\n",
       "      <td>1.0</td>\n",
       "    </tr>\n",
       "    <tr>\n",
       "      <th>1</th>\n",
       "      <td>0.600000</td>\n",
       "      <td>0.5</td>\n",
       "      <td>1.0</td>\n",
       "      <td>127.954545</td>\n",
       "      <td>85.0</td>\n",
       "      <td>177.0</td>\n",
       "      <td>72.660377</td>\n",
       "      <td>58.0</td>\n",
       "      <td>105.0</td>\n",
       "      <td>72.315789</td>\n",
       "      <td>...</td>\n",
       "      <td>36.786325</td>\n",
       "      <td>36.388889</td>\n",
       "      <td>37.055556</td>\n",
       "      <td>93.103510</td>\n",
       "      <td>91.807021</td>\n",
       "      <td>95.000000</td>\n",
       "      <td>7.377143</td>\n",
       "      <td>7.34</td>\n",
       "      <td>7.42</td>\n",
       "      <td>0.0</td>\n",
       "    </tr>\n",
       "    <tr>\n",
       "      <th>2</th>\n",
       "      <td>0.481250</td>\n",
       "      <td>0.4</td>\n",
       "      <td>0.8</td>\n",
       "      <td>145.625000</td>\n",
       "      <td>116.0</td>\n",
       "      <td>180.0</td>\n",
       "      <td>107.260000</td>\n",
       "      <td>96.0</td>\n",
       "      <td>118.0</td>\n",
       "      <td>86.462963</td>\n",
       "      <td>...</td>\n",
       "      <td>37.316239</td>\n",
       "      <td>36.611111</td>\n",
       "      <td>37.944444</td>\n",
       "      <td>67.500000</td>\n",
       "      <td>67.500000</td>\n",
       "      <td>67.500000</td>\n",
       "      <td>7.372000</td>\n",
       "      <td>7.29</td>\n",
       "      <td>7.45</td>\n",
       "      <td>0.0</td>\n",
       "    </tr>\n",
       "    <tr>\n",
       "      <th>3</th>\n",
       "      <td>0.400000</td>\n",
       "      <td>0.4</td>\n",
       "      <td>0.4</td>\n",
       "      <td>100.142857</td>\n",
       "      <td>77.0</td>\n",
       "      <td>154.0</td>\n",
       "      <td>57.250000</td>\n",
       "      <td>47.0</td>\n",
       "      <td>65.0</td>\n",
       "      <td>69.762712</td>\n",
       "      <td>...</td>\n",
       "      <td>NaN</td>\n",
       "      <td>NaN</td>\n",
       "      <td>NaN</td>\n",
       "      <td>80.403091</td>\n",
       "      <td>76.838485</td>\n",
       "      <td>86.000000</td>\n",
       "      <td>7.161250</td>\n",
       "      <td>6.00</td>\n",
       "      <td>7.36</td>\n",
       "      <td>1.0</td>\n",
       "    </tr>\n",
       "    <tr>\n",
       "      <th>4</th>\n",
       "      <td>0.566667</td>\n",
       "      <td>0.4</td>\n",
       "      <td>1.0</td>\n",
       "      <td>138.000000</td>\n",
       "      <td>116.0</td>\n",
       "      <td>155.0</td>\n",
       "      <td>84.015625</td>\n",
       "      <td>64.0</td>\n",
       "      <td>114.0</td>\n",
       "      <td>70.662162</td>\n",
       "      <td>...</td>\n",
       "      <td>36.148990</td>\n",
       "      <td>34.722222</td>\n",
       "      <td>37.666667</td>\n",
       "      <td>NaN</td>\n",
       "      <td>NaN</td>\n",
       "      <td>NaN</td>\n",
       "      <td>7.374444</td>\n",
       "      <td>7.27</td>\n",
       "      <td>7.42</td>\n",
       "      <td>1.0</td>\n",
       "    </tr>\n",
       "  </tbody>\n",
       "</table>\n",
       "<p>5 rows × 34 columns</p>\n",
       "</div>"
      ],
      "text/plain": [
       "   Fraction inspired oxygen_mean  Fraction inspired oxygen_min  \\\n",
       "0                       0.484615                           0.4   \n",
       "1                       0.600000                           0.5   \n",
       "2                       0.481250                           0.4   \n",
       "3                       0.400000                           0.4   \n",
       "4                       0.566667                           0.4   \n",
       "\n",
       "   Fraction inspired oxygen_max  Glucose_mean  Glucose_min  Glucose_max  \\\n",
       "0                           0.6    155.181818         52.0        280.0   \n",
       "1                           1.0    127.954545         85.0        177.0   \n",
       "2                           0.8    145.625000        116.0        180.0   \n",
       "3                           0.4    100.142857         77.0        154.0   \n",
       "4                           1.0    138.000000        116.0        155.0   \n",
       "\n",
       "   Heart Rate_mean  Heart Rate_min  Heart Rate_max  Mean blood pressure_mean  \\\n",
       "0        52.367347            35.0            93.0                 87.096154   \n",
       "1        72.660377            58.0           105.0                 72.315789   \n",
       "2       107.260000            96.0           118.0                 86.462963   \n",
       "3        57.250000            47.0            65.0                 69.762712   \n",
       "4        84.015625            64.0           114.0                 70.662162   \n",
       "\n",
       "   ...  Temperature_mean  Temperature_min  Temperature_max  Weight_mean  \\\n",
       "0  ...         36.356349        35.200000        37.100000    81.419764   \n",
       "1  ...         36.786325        36.388889        37.055556    93.103510   \n",
       "2  ...         37.316239        36.611111        37.944444    67.500000   \n",
       "3  ...               NaN              NaN              NaN    80.403091   \n",
       "4  ...         36.148990        34.722222        37.666667          NaN   \n",
       "\n",
       "   Weight_min  Weight_max   pH_mean  pH_min  pH_max  mortality  \n",
       "0   81.419764   81.419764  7.328750    7.19    7.40        1.0  \n",
       "1   91.807021   95.000000  7.377143    7.34    7.42        0.0  \n",
       "2   67.500000   67.500000  7.372000    7.29    7.45        0.0  \n",
       "3   76.838485   86.000000  7.161250    6.00    7.36        1.0  \n",
       "4         NaN         NaN  7.374444    7.27    7.42        1.0  \n",
       "\n",
       "[5 rows x 34 columns]"
      ]
     },
     "execution_count": 2,
     "metadata": {},
     "output_type": "execute_result"
    }
   ],
   "source": [
    "SEED = 1\n",
    "\n",
    "data_folder = 'data'\n",
    "df = pd.read_csv(os.path.join(data_folder,'mimiciv_traindata.csv'))\n",
    "df.head()"
   ]
  },
  {
   "cell_type": "code",
   "execution_count": 3,
   "metadata": {},
   "outputs": [],
   "source": [
    "x = compute_features(df.drop('mortality',axis=1))\n",
    "y = df.mortality.values\n",
    "\n"
   ]
  },
  {
   "cell_type": "code",
   "execution_count": 4,
   "metadata": {},
   "outputs": [
    {
     "name": "stdout",
     "output_type": "stream",
     "text": [
      "{'l1': 0.01408463968126994, 'l2': 0.02342531550932314, 'n_neighbors': 6.122179621653704}\n",
      "{'l1': 0.2168472356533766, 'l2': 0.5551926359441683, 'n_neighbors': 3.0167325987967226}\n"
     ]
    }
   ],
   "source": [
    "base_pipeline = [\n",
    "    ('scaler', QuantileTransformer(output_distribution='normal', ignore_implicit_zeros=False)),\n",
    "]\n",
    "\n",
    "with open('probit.json','r') as f:\n",
    "    probit_param = json.load(f)\n",
    "with open('logistic.json','r') as f:\n",
    "    logistic_param = json.load(f)\n",
    "\n",
    "print(probit_param)\n",
    "print(logistic_param)\n",
    "    "
   ]
  },
  {
   "cell_type": "markdown",
   "metadata": {},
   "source": [
    "# Probit Model"
   ]
  },
  {
   "cell_type": "code",
   "execution_count": 5,
   "metadata": {},
   "outputs": [
    {
     "name": "stdout",
     "output_type": "stream",
     "text": [
      "Current loss: 0.8650147911044017\n",
      "Current loss: 0.664131268591634\n",
      "Current loss: 0.5651551760912967\n",
      "Current loss: 0.5098817316941787\n",
      "Current loss: 0.5037841237632393\n",
      "Current loss: 0.5021706080927653\n",
      "Current loss: 0.5041625229916321\n",
      "Current loss: 0.5034496737510967\n",
      "Current loss: 0.5054315624713007\n",
      "Current loss: 0.5046459947631536\n",
      "Current loss: 0.5072062251588415\n",
      "Optimization result: Optimization terminated successfully\n",
      "Wald test summary:\n",
      "+----+---------+--------------+-----------+---------+---------+\n",
      "|    |   index |         coef |   std err |       z |   P>|z| |\n",
      "|----+---------+--------------+-----------+---------+---------|\n",
      "|  0 |      25 | -0.0591783   |    0.0518 | -1.1414 |  0.2537 |\n",
      "|  1 |      21 |  0.0949772   |    0.086  |  1.1045 |  0.2694 |\n",
      "|  2 |      19 | -0.0320317   |    0.0328 | -0.9757 |  0.3292 |\n",
      "|  3 |      24 | -0.0634395   |    0.0787 | -0.8064 |  0.42   |\n",
      "|  4 |      66 | -0.0365839   |    0.0591 | -0.6191 |  0.5358 |\n",
      "|  5 |       8 |  0.0601579   |    0.1155 |  0.5208 |  0.6025 |\n",
      "|  6 |      59 | -0.0354106   |    0.0777 | -0.4556 |  0.6486 |\n",
      "|  7 |      16 | -0.03061     |    0.0717 | -0.4271 |  0.6693 |\n",
      "|  8 |      64 | -0.0449132   |    0.1188 | -0.378  |  0.7054 |\n",
      "|  9 |      15 | -0.0332666   |    0.0943 | -0.3529 |  0.7242 |\n",
      "| 10 |      12 | -0.0281391   |    0.0856 | -0.3286 |  0.7425 |\n",
      "| 11 |      23 |  0.0305899   |    0.0945 |  0.3236 |  0.7462 |\n",
      "| 12 |       6 |  0.0372095   |    0.1282 |  0.2902 |  0.7716 |\n",
      "| 13 |      31 | -0.00466013  |    0.0188 | -0.2476 |  0.8045 |\n",
      "| 14 |       3 |  0.0273447   |    0.1151 |  0.2376 |  0.8122 |\n",
      "| 15 |      44 |  0.00838343  |    0.0464 |  0.1807 |  0.8566 |\n",
      "| 16 |      40 |  0.00994516  |    0.0554 |  0.1795 |  0.8576 |\n",
      "| 17 |      61 |  0.0175781   |    0.0986 |  0.1782 |  0.8586 |\n",
      "| 18 |      32 | -0.00710207  |    0.0405 | -0.1754 |  0.8607 |\n",
      "| 19 |       9 | -0.0116971   |    0.0831 | -0.1408 |  0.888  |\n",
      "| 20 |      43 |  0.020678    |    0.1659 |  0.1246 |  0.9008 |\n",
      "| 21 |      29 | -0.0311945   |    0.2566 | -0.1216 |  0.9032 |\n",
      "| 22 |      13 | -0.00595313  |    0.0621 | -0.0959 |  0.9236 |\n",
      "| 23 |      18 |  0.00798142  |    0.0916 |  0.0871 |  0.9306 |\n",
      "| 24 |      22 | -0.00445609  |    0.0531 | -0.084  |  0.9331 |\n",
      "| 25 |      57 | -0.00750646  |    0.0899 | -0.0835 |  0.9334 |\n",
      "| 26 |      35 |  0.012249    |    0.172  |  0.0712 |  0.9432 |\n",
      "| 27 |       5 |  0.00790032  |    0.1158 |  0.0682 |  0.9456 |\n",
      "| 28 |      62 |  0.00810842  |    0.1258 |  0.0644 |  0.9486 |\n",
      "| 29 |      63 | -0.00698894  |    0.1258 | -0.0555 |  0.9557 |\n",
      "| 30 |      45 | -0.00409808  |    0.0776 | -0.0528 |  0.9579 |\n",
      "| 31 |      27 | -0.0215006   |    0.4189 | -0.0513 |  0.9591 |\n",
      "| 32 |      20 | -0.00281012  |    0.0556 | -0.0506 |  0.9597 |\n",
      "| 33 |      49 |  0.00437967  |    0.0963 |  0.0455 |  0.9637 |\n",
      "| 34 |      55 |  0.00367936  |    0.0942 |  0.0391 |  0.9688 |\n",
      "| 35 |      54 | -0.00345259  |    0.1142 | -0.0302 |  0.9759 |\n",
      "| 36 |      34 |  0.00487951  |    0.1962 |  0.0249 |  0.9802 |\n",
      "| 37 |      28 | -0.00458981  |    0.1898 | -0.0242 |  0.9807 |\n",
      "| 38 |      60 | -0.00217878  |    0.098  | -0.0222 |  0.9823 |\n",
      "| 39 |      30 |  0.00109662  |    0.0498 |  0.022  |  0.9824 |\n",
      "| 40 |      10 | -0.00132298  |    0.0677 | -0.0195 |  0.9844 |\n",
      "| 41 |      65 |  0.00134261  |    0.0724 |  0.0186 |  0.9852 |\n",
      "| 42 |       4 | -0.00100145  |    0.0572 | -0.0175 |  0.986  |\n",
      "| 43 |      26 |  0.00114883  |    0.0809 |  0.0142 |  0.9887 |\n",
      "| 44 |      39 |  0.00210299  |    0.1581 |  0.0133 |  0.9894 |\n",
      "| 45 |      41 |  0.00201039  |    0.1768 |  0.0114 |  0.9909 |\n",
      "| 46 |      38 |  0.0022409   |    0.2157 |  0.0104 |  0.9917 |\n",
      "| 47 |      56 | -0.00108753  |    0.112  | -0.0097 |  0.9923 |\n",
      "| 48 |      14 | -0.000946549 |    0.1384 | -0.0068 |  0.9945 |\n",
      "| 49 |      58 | -0.000364516 |    0.0549 | -0.0066 |  0.9947 |\n",
      "| 50 |      48 |  0.000587493 |    0.0901 |  0.0065 |  0.9948 |\n",
      "| 51 |       1 |  0.000348743 |    0.0559 |  0.0062 |  0.995  |\n",
      "| 52 |      50 | -0.000499176 |    0.0803 | -0.0062 |  0.995  |\n",
      "| 53 |      36 | -0.000850228 |    0.1452 | -0.0059 |  0.9953 |\n",
      "| 54 |      47 | -0.000756612 |    0.1293 | -0.0058 |  0.9953 |\n",
      "| 55 |      37 |  0.00091969  |    0.1881 |  0.0049 |  0.9961 |\n",
      "| 56 |      52 | -0.000381219 |    0.0803 | -0.0047 |  0.9962 |\n",
      "| 57 |      53 | -0.000429518 |    0.1034 | -0.0042 |  0.9967 |\n",
      "| 58 |       2 | -0.000344599 |    0.086  | -0.004  |  0.9968 |\n",
      "| 59 |      67 | -0.000229933 |    0.0662 | -0.0035 |  0.9972 |\n",
      "| 60 |       0 |  0.000236862 |    0.087  |  0.0027 |  0.9978 |\n",
      "| 61 |       7 | -0.000251286 |    0.1061 | -0.0024 |  0.9981 |\n",
      "| 62 |      11 |  0.000243284 |    0.1119 |  0.0022 |  0.9983 |\n",
      "| 63 |      51 |  0.000164299 |    0.0897 |  0.0018 |  0.9985 |\n",
      "| 64 |      46 |  0.000182294 |    0.1012 |  0.0018 |  0.9986 |\n",
      "| 65 |      17 |  0.000239944 |    0.1453 |  0.0017 |  0.9987 |\n",
      "| 66 |      42 | -0.000259297 |    0.1727 | -0.0015 |  0.9988 |\n",
      "| 67 |      33 | -9.8311e-05  |    0.0882 | -0.0011 |  0.9991 |\n",
      "+----+---------+--------------+-----------+---------+---------+\n"
     ]
    }
   ],
   "source": [
    "probit_pipeline = base_pipeline + [\n",
    "        ('iso_forest', FeatureTransformer(fnames=x.columns, n_neighbors=int(probit_param['n_neighbors']))),\n",
    "        ('imputer', KNNImputer(missing_values=np.nan, n_neighbors=int(probit_param['n_neighbors']))),\n",
    "]\n",
    "probit_pipeline = Pipeline(probit_pipeline)\n",
    "probit_x = probit_pipeline.fit_transform(x)\n",
    "probit = probitModel(l1=probit_param['l1'], l2=probit_param['l2'], w=0.75)\n",
    "\n",
    "res_dict = probit.fit(probit_x, y, verbose=True, wald=True)\n",
    "result = res_dict['result']\n",
    "loss_values = res_dict['loss']"
   ]
  },
  {
   "cell_type": "code",
   "execution_count": 13,
   "metadata": {},
   "outputs": [
    {
     "data": {
      "image/png": "[encoded data removed]",
      "text/plain": [
       "<Figure size 1000x600 with 1 Axes>"
      ]
     },
     "metadata": {},
     "output_type": "display_data"
    }
   ],
   "source": [
    "plt.figure(figsize=(10, 6))\n",
    "plt.plot(loss_values, marker='.', linestyle='-')\n",
    "plt.title('Probit Loss Value During Optimization')\n",
    "plt.xlabel('Iteration')\n",
    "plt.ylabel('Loss Value')\n",
    "plt.grid()\n",
    "plt.show()"
   ]
  },
  {
   "cell_type": "markdown",
   "metadata": {},
   "source": [
    "## Wald test result and model interpretation"
   ]
  },
  {
   "cell_type": "code",
   "execution_count": 14,
   "metadata": {},
   "outputs": [
    {
     "ename": "KeyError",
     "evalue": "'index'",
     "output_type": "error",
     "traceback": [
      "\u001b[1;31m---------------------------------------------------------------------------\u001b[0m",
      "\u001b[1;31mKeyError\u001b[0m                                  Traceback (most recent call last)",
      "File \u001b[1;32mc:\\Users\\johne\\anaconda3\\envs\\ml\\lib\\site-packages\\pandas\\core\\indexes\\base.py:3805\u001b[0m, in \u001b[0;36mIndex.get_loc\u001b[1;34m(self, key)\u001b[0m\n\u001b[0;32m   3804\u001b[0m \u001b[38;5;28;01mtry\u001b[39;00m:\n\u001b[1;32m-> 3805\u001b[0m     \u001b[38;5;28;01mreturn\u001b[39;00m \u001b[38;5;28;43mself\u001b[39;49m\u001b[38;5;241;43m.\u001b[39;49m\u001b[43m_engine\u001b[49m\u001b[38;5;241;43m.\u001b[39;49m\u001b[43mget_loc\u001b[49m\u001b[43m(\u001b[49m\u001b[43mcasted_key\u001b[49m\u001b[43m)\u001b[49m\n\u001b[0;32m   3806\u001b[0m \u001b[38;5;28;01mexcept\u001b[39;00m \u001b[38;5;167;01mKeyError\u001b[39;00m \u001b[38;5;28;01mas\u001b[39;00m err:\n",
      "File \u001b[1;32mindex.pyx:167\u001b[0m, in \u001b[0;36mpandas._libs.index.IndexEngine.get_loc\u001b[1;34m()\u001b[0m\n",
      "File \u001b[1;32mindex.pyx:196\u001b[0m, in \u001b[0;36mpandas._libs.index.IndexEngine.get_loc\u001b[1;34m()\u001b[0m\n",
      "File \u001b[1;32mpandas\\\\_libs\\\\hashtable_class_helper.pxi:7081\u001b[0m, in \u001b[0;36mpandas._libs.hashtable.PyObjectHashTable.get_item\u001b[1;34m()\u001b[0m\n",
      "File \u001b[1;32mpandas\\\\_libs\\\\hashtable_class_helper.pxi:7089\u001b[0m, in \u001b[0;36mpandas._libs.hashtable.PyObjectHashTable.get_item\u001b[1;34m()\u001b[0m\n",
      "\u001b[1;31mKeyError\u001b[0m: 'index'",
      "\nThe above exception was the direct cause of the following exception:\n",
      "\u001b[1;31mKeyError\u001b[0m                                  Traceback (most recent call last)",
      "Cell \u001b[1;32mIn[14], line 6\u001b[0m\n\u001b[0;32m      4\u001b[0m index_to_feature \u001b[38;5;241m=\u001b[39m \u001b[38;5;28mdict\u001b[39m(\u001b[38;5;28mzip\u001b[39m(\u001b[38;5;28mrange\u001b[39m(\u001b[38;5;28mlen\u001b[39m(fnames)),fnames))\n\u001b[0;32m      5\u001b[0m wald_res \u001b[38;5;241m=\u001b[39m res_dict[\u001b[38;5;124m'\u001b[39m\u001b[38;5;124mwald_result\u001b[39m\u001b[38;5;124m'\u001b[39m]\n\u001b[1;32m----> 6\u001b[0m wald_res[\u001b[38;5;124m'\u001b[39m\u001b[38;5;124mindex\u001b[39m\u001b[38;5;124m'\u001b[39m] \u001b[38;5;241m=\u001b[39m \u001b[43mwald_res\u001b[49m\u001b[43m[\u001b[49m\u001b[38;5;124;43m'\u001b[39;49m\u001b[38;5;124;43mindex\u001b[39;49m\u001b[38;5;124;43m'\u001b[39;49m\u001b[43m]\u001b[49m\u001b[38;5;241m.\u001b[39mreplace(index_to_feature, inplace\u001b[38;5;241m=\u001b[39m\u001b[38;5;28;01mFalse\u001b[39;00m)\n\u001b[0;32m      7\u001b[0m wald_res\u001b[38;5;241m.\u001b[39mrename(columns\u001b[38;5;241m=\u001b[39m{\u001b[38;5;124m'\u001b[39m\u001b[38;5;124mindex\u001b[39m\u001b[38;5;124m'\u001b[39m:\u001b[38;5;124m'\u001b[39m\u001b[38;5;124mfeature\u001b[39m\u001b[38;5;124m'\u001b[39m}, inplace\u001b[38;5;241m=\u001b[39m\u001b[38;5;28;01mTrue\u001b[39;00m)\n\u001b[0;32m      8\u001b[0m \u001b[38;5;66;03m# filter out the significant features with 5% significance level\u001b[39;00m\n",
      "File \u001b[1;32mc:\\Users\\johne\\anaconda3\\envs\\ml\\lib\\site-packages\\pandas\\core\\frame.py:4102\u001b[0m, in \u001b[0;36mDataFrame.__getitem__\u001b[1;34m(self, key)\u001b[0m\n\u001b[0;32m   4100\u001b[0m \u001b[38;5;28;01mif\u001b[39;00m \u001b[38;5;28mself\u001b[39m\u001b[38;5;241m.\u001b[39mcolumns\u001b[38;5;241m.\u001b[39mnlevels \u001b[38;5;241m>\u001b[39m \u001b[38;5;241m1\u001b[39m:\n\u001b[0;32m   4101\u001b[0m     \u001b[38;5;28;01mreturn\u001b[39;00m \u001b[38;5;28mself\u001b[39m\u001b[38;5;241m.\u001b[39m_getitem_multilevel(key)\n\u001b[1;32m-> 4102\u001b[0m indexer \u001b[38;5;241m=\u001b[39m \u001b[38;5;28;43mself\u001b[39;49m\u001b[38;5;241;43m.\u001b[39;49m\u001b[43mcolumns\u001b[49m\u001b[38;5;241;43m.\u001b[39;49m\u001b[43mget_loc\u001b[49m\u001b[43m(\u001b[49m\u001b[43mkey\u001b[49m\u001b[43m)\u001b[49m\n\u001b[0;32m   4103\u001b[0m \u001b[38;5;28;01mif\u001b[39;00m is_integer(indexer):\n\u001b[0;32m   4104\u001b[0m     indexer \u001b[38;5;241m=\u001b[39m [indexer]\n",
      "File \u001b[1;32mc:\\Users\\johne\\anaconda3\\envs\\ml\\lib\\site-packages\\pandas\\core\\indexes\\base.py:3812\u001b[0m, in \u001b[0;36mIndex.get_loc\u001b[1;34m(self, key)\u001b[0m\n\u001b[0;32m   3807\u001b[0m     \u001b[38;5;28;01mif\u001b[39;00m \u001b[38;5;28misinstance\u001b[39m(casted_key, \u001b[38;5;28mslice\u001b[39m) \u001b[38;5;129;01mor\u001b[39;00m (\n\u001b[0;32m   3808\u001b[0m         \u001b[38;5;28misinstance\u001b[39m(casted_key, abc\u001b[38;5;241m.\u001b[39mIterable)\n\u001b[0;32m   3809\u001b[0m         \u001b[38;5;129;01mand\u001b[39;00m \u001b[38;5;28many\u001b[39m(\u001b[38;5;28misinstance\u001b[39m(x, \u001b[38;5;28mslice\u001b[39m) \u001b[38;5;28;01mfor\u001b[39;00m x \u001b[38;5;129;01min\u001b[39;00m casted_key)\n\u001b[0;32m   3810\u001b[0m     ):\n\u001b[0;32m   3811\u001b[0m         \u001b[38;5;28;01mraise\u001b[39;00m InvalidIndexError(key)\n\u001b[1;32m-> 3812\u001b[0m     \u001b[38;5;28;01mraise\u001b[39;00m \u001b[38;5;167;01mKeyError\u001b[39;00m(key) \u001b[38;5;28;01mfrom\u001b[39;00m \u001b[38;5;21;01merr\u001b[39;00m\n\u001b[0;32m   3813\u001b[0m \u001b[38;5;28;01mexcept\u001b[39;00m \u001b[38;5;167;01mTypeError\u001b[39;00m:\n\u001b[0;32m   3814\u001b[0m     \u001b[38;5;66;03m# If we have a listlike key, _check_indexing_error will raise\u001b[39;00m\n\u001b[0;32m   3815\u001b[0m     \u001b[38;5;66;03m#  InvalidIndexError. Otherwise we fall through and re-raise\u001b[39;00m\n\u001b[0;32m   3816\u001b[0m     \u001b[38;5;66;03m#  the TypeError.\u001b[39;00m\n\u001b[0;32m   3817\u001b[0m     \u001b[38;5;28mself\u001b[39m\u001b[38;5;241m.\u001b[39m_check_indexing_error(key)\n",
      "\u001b[1;31mKeyError\u001b[0m: 'index'"
     ]
    }
   ],
   "source": [
    "# iso_forest in pipeline will add a feature 'is_outlier', and last parameter in the model is the bias term\n",
    "fnames = x.columns.to_list()+['is_outlier']+['bias']\n",
    "# map the indices back to feature names\n",
    "index_to_feature = dict(zip(range(len(fnames)),fnames))\n",
    "wald_res = res_dict['wald_result']\n",
    "wald_res['index'] = wald_res['index'].replace(index_to_feature, inplace=False)\n",
    "wald_res.rename(columns={'index':'feature'}, inplace=True)\n",
    "# filter out the significant features with 5% significance level\n",
    "wald_res.query('`P>|z|` < 0.05')\n"
   ]
  },
  {
   "cell_type": "markdown",
   "metadata": {},
   "source": [
    "### Interpretation\n",
    "Positive coef -> higher feature value, higher mortality risk\n",
    "\n",
    "Negative coef -> higher feature value, lower mortality risk\n",
    "- Higher Respiratory rate_mean increases mortality risk\n",
    "- Higher Heart Rate_max increases mortality risk\n",
    "- Higher Oxygen saturation_min decrease mortality risk (or lower increase risk)\n",
    "- Higher Temperature_min decrease mortality risk (or lower increase risk)\n",
    "- Higher pH_min decrease mortality risk (or lower increase risk)\n",
    "- Higher Respiratory rate_min decrease mortality risk (or lower increase risk)"
   ]
  },
  {
   "cell_type": "markdown",
   "metadata": {},
   "source": [
    "## Saving the model"
   ]
  },
  {
   "cell_type": "code",
   "execution_count": 8,
   "metadata": {},
   "outputs": [
    {
     "data": {
      "text/plain": [
       "['probit.pkl']"
      ]
     },
     "execution_count": 8,
     "metadata": {},
     "output_type": "execute_result"
    }
   ],
   "source": [
    "joblib.dump(probit_pipeline, 'probit_pipeline.pkl')\n",
    "joblib.dump(probit, 'probit.pkl')"
   ]
  },
  {
   "cell_type": "markdown",
   "metadata": {},
   "source": [
    "# Logistic Model"
   ]
  },
  {
   "cell_type": "code",
   "execution_count": 9,
   "metadata": {},
   "outputs": [
    {
     "name": "stdout",
     "output_type": "stream",
     "text": [
      "Current loss: 18.24740089266604\n",
      "Current loss: 1.0448382259504236\n",
      "Optimization result: Optimization terminated successfully\n",
      "Wald test summary:\n",
      "+----+---------+--------------+-----------+---------+---------+\n",
      "|    |   index |         coef |   std err |       z |   P>|z| |\n",
      "|----+---------+--------------+-----------+---------+---------|\n",
      "|  0 |      31 | -4.39432e-05 |    0.0293 | -0.0015 |  0.9988 |\n",
      "|  1 |      19 | -4.33474e-05 |    0.0514 | -0.0008 |  0.9993 |\n",
      "|  2 |      30 | -3.42215e-05 |    0.0774 | -0.0004 |  0.9996 |\n",
      "|  3 |      32 | -2.99382e-05 |    0.0631 | -0.0005 |  0.9996 |\n",
      "|  4 |      25 | -4.12343e-05 |    0.0805 | -0.0005 |  0.9996 |\n",
      "|  5 |      58 | -3.88605e-05 |    0.0858 | -0.0005 |  0.9996 |\n",
      "|  6 |      13 | -3.876e-05   |    0.0962 | -0.0004 |  0.9997 |\n",
      "|  7 |      44 | -2.88537e-05 |    0.0709 | -0.0004 |  0.9997 |\n",
      "|  8 |      10 | -4.01988e-05 |    0.1054 | -0.0004 |  0.9997 |\n",
      "|  9 |      16 | -4.38552e-05 |    0.1128 | -0.0004 |  0.9997 |\n",
      "| 10 |      22 | -3.41017e-05 |    0.0829 | -0.0004 |  0.9997 |\n",
      "| 11 |      66 | -3.21625e-05 |    0.09   | -0.0004 |  0.9997 |\n",
      "| 12 |       4 | -2.94802e-05 |    0.0886 | -0.0003 |  0.9997 |\n",
      "| 13 |      24 | -3.87792e-05 |    0.1223 | -0.0003 |  0.9997 |\n",
      "| 14 |      20 | -3.02965e-05 |    0.0872 | -0.0003 |  0.9997 |\n",
      "| 15 |      45 | -3.05576e-05 |    0.1178 | -0.0003 |  0.9998 |\n",
      "| 16 |      40 | -2.11365e-05 |    0.0869 | -0.0002 |  0.9998 |\n",
      "| 17 |       0 | -2.70903e-05 |    0.1318 | -0.0002 |  0.9998 |\n",
      "| 18 |      50 | -3.5483e-05  |    0.1243 | -0.0003 |  0.9998 |\n",
      "| 19 |      52 | -3.45764e-05 |    0.1251 | -0.0003 |  0.9998 |\n",
      "| 20 |      54 | -3.67482e-05 |    0.1788 | -0.0002 |  0.9998 |\n",
      "| 21 |      56 | -3.8226e-05  |    0.1758 | -0.0002 |  0.9998 |\n",
      "| 22 |      57 | -2.88039e-05 |    0.1414 | -0.0002 |  0.9998 |\n",
      "| 23 |      59 | -3.40917e-05 |    0.1223 | -0.0003 |  0.9998 |\n",
      "| 24 |      60 | -3.61581e-05 |    0.1534 | -0.0002 |  0.9998 |\n",
      "| 25 |      63 | -3.72192e-05 |    0.1954 | -0.0002 |  0.9998 |\n",
      "| 26 |      64 | -5.17551e-05 |    0.1863 | -0.0003 |  0.9998 |\n",
      "| 27 |      46 | -3.56876e-05 |    0.1579 | -0.0002 |  0.9998 |\n",
      "| 28 |      48 | -3.24431e-05 |    0.1406 | -0.0002 |  0.9998 |\n",
      "| 29 |      33 | -3.03912e-05 |    0.1345 | -0.0002 |  0.9998 |\n",
      "| 30 |      67 | -2.96827e-05 |    0.1012 | -0.0003 |  0.9998 |\n",
      "| 31 |      15 | -4.1711e-05  |    0.1474 | -0.0003 |  0.9998 |\n",
      "| 32 |      18 | -3.05987e-05 |    0.1448 | -0.0002 |  0.9998 |\n",
      "| 33 |       9 | -3.8272e-05  |    0.1295 | -0.0003 |  0.9998 |\n",
      "| 34 |      12 | -3.71012e-05 |    0.1331 | -0.0003 |  0.9998 |\n",
      "| 35 |       1 | -2.56513e-05 |    0.0847 | -0.0003 |  0.9998 |\n",
      "| 36 |      26 | -3.20264e-05 |    0.1257 | -0.0003 |  0.9998 |\n",
      "| 37 |       2 | -2.89285e-05 |    0.1308 | -0.0002 |  0.9998 |\n",
      "| 38 |      62 | -2.11681e-05 |    0.1971 | -0.0001 |  0.9999 |\n",
      "| 39 |      61 | -2.2449e-05  |    0.1534 | -0.0001 |  0.9999 |\n",
      "| 40 |       3 | -2.32668e-05 |    0.1783 | -0.0001 |  0.9999 |\n",
      "| 41 |       5 | -2.31919e-05 |    0.1804 | -0.0001 |  0.9999 |\n",
      "| 42 |      51 | -2.58048e-05 |    0.1387 | -0.0002 |  0.9999 |\n",
      "| 43 |       7 | -2.25475e-05 |    0.1655 | -0.0001 |  0.9999 |\n",
      "| 44 |       8 | -1.58745e-05 |    0.1803 | -0.0001 |  0.9999 |\n",
      "| 45 |      55 | -2.16658e-05 |    0.1467 | -0.0001 |  0.9999 |\n",
      "| 46 |      53 | -2.66305e-05 |    0.1609 | -0.0002 |  0.9999 |\n",
      "| 47 |      65 | -1.02317e-05 |    0.1131 | -0.0001 |  0.9999 |\n",
      "| 48 |      11 | -3.14764e-05 |    0.1736 | -0.0002 |  0.9999 |\n",
      "| 49 |       6 | -1.80296e-05 |    0.2002 | -0.0001 |  0.9999 |\n",
      "| 50 |      28 | -3.59287e-05 |    0.2993 | -0.0001 |  0.9999 |\n",
      "| 51 |      29 | -3.69954e-05 |    0.4031 | -0.0001 |  0.9999 |\n",
      "| 52 |      23 | -1.90196e-05 |    0.148  | -0.0001 |  0.9999 |\n",
      "| 53 |      34 | -2.45753e-05 |    0.3059 | -0.0001 |  0.9999 |\n",
      "| 54 |      35 | -2.08439e-05 |    0.2698 | -0.0001 |  0.9999 |\n",
      "| 55 |      36 | -2.73655e-05 |    0.2248 | -0.0001 |  0.9999 |\n",
      "| 56 |      37 | -2.85435e-05 |    0.2934 | -0.0001 |  0.9999 |\n",
      "| 57 |      49 | -2.58127e-05 |    0.1517 | -0.0002 |  0.9999 |\n",
      "| 58 |      38 | -2.54658e-05 |    0.3372 | -0.0001 |  0.9999 |\n",
      "| 59 |      21 | -1.47864e-05 |    0.1353 | -0.0001 |  0.9999 |\n",
      "| 60 |      41 | -2.23639e-05 |    0.2765 | -0.0001 |  0.9999 |\n",
      "| 61 |      42 | -3.83581e-05 |    0.2694 | -0.0001 |  0.9999 |\n",
      "| 62 |      17 | -3.35638e-05 |    0.2272 | -0.0001 |  0.9999 |\n",
      "| 63 |      47 | -2.74957e-05 |    0.2016 | -0.0001 |  0.9999 |\n",
      "| 64 |      39 | -2.18495e-05 |    0.2486 | -0.0001 |  0.9999 |\n",
      "| 65 |      14 | -3.24572e-05 |    0.2151 | -0.0002 |  0.9999 |\n",
      "| 66 |      43 | -8.88311e-06 |    0.2602 | -0      |  1      |\n",
      "| 67 |      27 | -3.66537e-05 |    0.6598 | -0.0001 |  1      |\n",
      "+----+---------+--------------+-----------+---------+---------+\n"
     ]
    }
   ],
   "source": [
    "logistic_pipeline = base_pipeline + [ #\n",
    "        ('iso_forest', FeatureTransformer(fnames=x.columns, n_neighbors=int(logistic_param['n_neighbors']))),\n",
    "        ('imputer', KNNImputer(missing_values=np.nan, n_neighbors=int(logistic_param['n_neighbors']))),\n",
    "]\n",
    "logistic_pipeline = Pipeline(logistic_pipeline)\n",
    "logistic_x = logistic_pipeline.fit_transform(x)\n",
    "logistic = logisticModel(l1=logistic_param['l1'], l2=logistic_param['l2'], w=0.75)\n",
    "\n",
    "res_dict = logistic.fit(logistic_x, y, verbose=True, wald=True, tol=1e-4)\n",
    "result = res_dict['result']\n",
    "loss_values = res_dict['loss']\n"
   ]
  },
  {
   "cell_type": "code",
   "execution_count": 10,
   "metadata": {},
   "outputs": [
    {
     "data": {
      "image/png": "[encoded data removed]",
      "text/plain": [
       "<Figure size 1000x600 with 1 Axes>"
      ]
     },
     "metadata": {},
     "output_type": "display_data"
    }
   ],
   "source": [
    "plt.figure(figsize=(10, 6))\n",
    "plt.plot(loss_values, marker='.', linestyle='-')\n",
    "plt.title('Logistic Loss Value During Optimization')\n",
    "plt.xlabel('Iteration')\n",
    "plt.ylabel('Loss Value')\n",
    "plt.grid()\n",
    "plt.show()"
   ]
  },
  {
   "cell_type": "markdown",
   "metadata": {},
   "source": [
    "## Wald test result and model interpretation"
   ]
  },
  {
   "cell_type": "code",
   "execution_count": 11,
   "metadata": {},
   "outputs": [
    {
     "data": {
      "text/html": [
       "<div>\n",
       "<style scoped>\n",
       "    .dataframe tbody tr th:only-of-type {\n",
       "        vertical-align: middle;\n",
       "    }\n",
       "\n",
       "    .dataframe tbody tr th {\n",
       "        vertical-align: top;\n",
       "    }\n",
       "\n",
       "    .dataframe thead th {\n",
       "        text-align: right;\n",
       "    }\n",
       "</style>\n",
       "<table border=\"1\" class=\"dataframe\">\n",
       "  <thead>\n",
       "    <tr style=\"text-align: right;\">\n",
       "      <th></th>\n",
       "      <th>feature</th>\n",
       "      <th>coef</th>\n",
       "      <th>std err</th>\n",
       "      <th>z</th>\n",
       "      <th>P&gt;|z|</th>\n",
       "    </tr>\n",
       "  </thead>\n",
       "  <tbody>\n",
       "  </tbody>\n",
       "</table>\n",
       "</div>"
      ],
      "text/plain": [
       "Empty DataFrame\n",
       "Columns: [feature, coef, std err, z, P>|z|]\n",
       "Index: []"
      ]
     },
     "execution_count": 11,
     "metadata": {},
     "output_type": "execute_result"
    }
   ],
   "source": [
    "# iso_forest in pipeline will add a feature 'is_outlier', and last parameter in the model is the bias term\n",
    "fnames = x.columns.to_list()+['is_outlier']+['bias']\n",
    "# map the indices back to feature names\n",
    "index_to_feature = dict(zip(range(len(fnames)),fnames))\n",
    "wald_res = res_dict['wald_result']\n",
    "wald_res['index'] = wald_res['index'].replace(index_to_feature, inplace=False)\n",
    "wald_res.rename(columns={'index':'feature'}, inplace=True)\n",
    "# filter out the significant features with 5% significance level\n",
    "wald_res.query('`P>|z|` < 0.05')\n"
   ]
  },
  {
   "cell_type": "markdown",
   "metadata": {},
   "source": [
    "### Interpretation\n",
    "Positive coef -> higher feature value, higher mortality risk\n",
    "\n",
    "Negative coef -> higher feature value, lower mortality risk\n",
    "- Higher Respiratory rate_mean increases mortality risk\n",
    "- Higher Heart Rate_max increases mortality risk\n",
    "- Higher Oxygen saturation_min decrease mortality risk (or lower increase risk)\n",
    "- Higher Temperature_min decrease mortality risk (or lower increase risk)\n",
    "- Higher pH_min decrease mortality risk (or lower increase risk)\n",
    "- Higher Respiratory rate_min decrease mortality risk (or lower increase risk)\n",
    "\n",
    "(Consistent with the probit model result)"
   ]
  },
  {
   "cell_type": "markdown",
   "metadata": {},
   "source": [
    "## Saving the model"
   ]
  },
  {
   "cell_type": "code",
   "execution_count": 12,
   "metadata": {},
   "outputs": [
    {
     "data": {
      "text/plain": [
       "['logistic.pkl']"
      ]
     },
     "execution_count": 12,
     "metadata": {},
     "output_type": "execute_result"
    }
   ],
   "source": [
    "joblib.dump(logistic_pipeline, 'logistic_pipeline.pkl')\n",
    "joblib.dump(logistic, 'logistic.pkl')"
   ]
  }
 ],
 "metadata": {
  "kernelspec": {
   "display_name": "Python 3",
   "language": "python",
   "name": "python3"
  },
  "language_info": {
   "codemirror_mode": {
    "name": "ipython",
    "version": 3
   },
   "file_extension": ".py",
   "mimetype": "text/x-python",
   "name": "python",
   "nbconvert_exporter": "python",
   "pygments_lexer": "ipython3",
   "version": "3.10.15"
  }
 },
 "nbformat": 4,
 "nbformat_minor": 4
}
